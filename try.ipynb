{
 "cells": [
  {
   "cell_type": "code",
   "execution_count": 4,
   "id": "ca4d89cb",
   "metadata": {},
   "outputs": [
    {
     "name": "stderr",
     "output_type": "stream",
     "text": [
      "<>:5: SyntaxWarning: invalid escape sequence '\\K'\n",
      "<>:5: SyntaxWarning: invalid escape sequence '\\K'\n",
      "C:\\Users\\vishe\\AppData\\Local\\Temp\\ipykernel_36492\\1367528849.py:5: SyntaxWarning: invalid escape sequence '\\K'\n",
      "  df = pd.read_csv('C:\\Kaam\\projects\\Antarnaa\\sample.csv')\n"
     ]
    }
   ],
   "source": [
    "import streamlit as st\n",
    "import pandas as pd\n",
    "\n",
    "# Load your CSV\n",
    "df = pd.read_csv('C:\\Kaam\\projects\\Antarnaa\\sample.csv')\n",
    "\n",
    "# st.title(\"Cascading Dependent Dropdowns\")\n",
    "\n",
    "# # First Dropdown: Category\n",
    "# category = st.selectbox(\"Select Category\", sorted(df['Category'].unique()))\n",
    "\n",
    "# # Filter df based on category\n",
    "# filtered_df1 = df[df['Category'] == category]\n",
    "\n",
    "# # Second Dropdown: Subcategory (depends on Category)\n",
    "# subcategory = st.selectbox(\"Select Subcategory\", sorted(filtered_df1['Subcategory'].unique()))\n",
    "\n",
    "# # Filter df based on category and subcategory\n",
    "# filtered_df2 = filtered_df1[filtered_df1['Subcategory'] == subcategory]\n",
    "\n",
    "# # Third Dropdown: Product (depends on Subcategory)\n",
    "# product = st.selectbox(\"Select Product\", sorted(filtered_df2['Product'].unique()))\n",
    "\n",
    "# # Filter df based on previous 3 selections\n",
    "# filtered_df3 = filtered_df2[filtered_df2['Product'] == product]\n",
    "\n",
    "# # Fourth Dropdown: Variant (depends on Product)\n",
    "# variant = st.selectbox(\"Select Variant\", sorted(filtered_df3['Variant'].unique()))\n",
    "\n",
    "# # Show final selection\n",
    "# st.write(f\"You selected: {category} > {subcategory} > {product} > {variant}\")\n"
   ]
  },
  {
   "cell_type": "code",
   "execution_count": 5,
   "id": "9046cbdf",
   "metadata": {},
   "outputs": [
    {
     "data": {
      "application/vnd.microsoft.datawrangler.viewer.v0+json": {
       "columns": [
        {
         "name": "index",
         "rawType": "int64",
         "type": "integer"
        },
        {
         "name": "Disease No.",
         "rawType": "int64",
         "type": "integer"
        },
        {
         "name": "Category",
         "rawType": "object",
         "type": "string"
        },
        {
         "name": "Sub Category",
         "rawType": "object",
         "type": "string"
        },
        {
         "name": "Symptom P1",
         "rawType": "object",
         "type": "string"
        },
        {
         "name": "Symptom P2",
         "rawType": "object",
         "type": "unknown"
        },
        {
         "name": "Remarks ",
         "rawType": "object",
         "type": "unknown"
        }
       ],
       "ref": "676bb65a-13d9-465d-b9d0-4ebe56b541f7",
       "rows": [
        [
         "0",
         "40",
         "Skin & External Features",
         "Cutaneous symptoms",
         "Reduced tactile sense",
         null,
         null
        ],
        [
         "1",
         "40",
         "General Systemic Symptoms",
         "Whole-Body Symptoms",
         "MALAISE",
         null,
         null
        ],
        [
         "2",
         "40",
         "Head & Face",
         "EYES",
         "Loss of Vision",
         null,
         null
        ],
        [
         "3",
         "40",
         "Head & Face",
         "TOUNGE",
         "Loss of taste",
         null,
         null
        ],
        [
         "4",
         "40",
         "Head & Face",
         "NOSE",
         "Loss of Smell",
         null,
         null
        ],
        [
         "5",
         "40",
         "General Systemic Symptoms",
         "Whole-Body Symptoms",
         "LOSS OF MOVEMENT",
         null,
         null
        ],
        [
         "6",
         "40",
         "General Systemic Symptoms",
         "Whole-Body Symptoms",
         "LOSS OF IMMUNITY",
         null,
         null
        ],
        [
         "7",
         "40",
         "Head & Face",
         "EARS",
         "Loss of Hearing",
         null,
         null
        ],
        [
         "8",
         "40",
         "General Systemic Symptoms",
         "Altered Level of Consciousness",
         "FAINTING",
         null,
         null
        ],
        [
         "9",
         "40",
         "General Systemic Symptoms",
         "Appetite & Thirst Disorders",
         "EXCESSIVE THIRST",
         null,
         null
        ],
        [
         "10",
         "62",
         "Urogenital & Pelvic System",
         "ANUS",
         "TWITCHING",
         null,
         null
        ],
        [
         "11",
         "62",
         "Urogenital & Pelvic System",
         "ANUS",
         "Discharge of Substances",
         "PUS",
         null
        ],
        [
         "12",
         "62",
         "Body Waste & Excretions",
         "DEFECATION",
         "PAIN",
         null,
         null
        ],
        [
         "13",
         "62",
         "Body Waste & Excretions",
         "STOOL",
         "FOUL SMELL",
         null,
         null
        ],
        [
         "14",
         "62",
         "Body Waste & Excretions",
         "FLATUS",
         "Difficulty Passing Gas",
         null,
         null
        ],
        [
         "15",
         "62",
         "Skin & External Features",
         "SKIN",
         "COLOR- ABNORMAL",
         "WHITE",
         null
        ],
        [
         "16",
         "62",
         "Body Waste & Excretions",
         "MICTURITION",
         "ABNORMAL",
         "Frequent Urination ",
         null
        ],
        [
         "17",
         "64",
         "Digestive System",
         "Digestive Disorders",
         "Weakening of digestive fire",
         null,
         null
        ],
        [
         "18",
         "64",
         "ABDOMINAL REGION",
         "GENERAL ABDOMEN",
         "Upward Movement of Air in Abdomen",
         null,
         null
        ],
        [
         "19",
         "64",
         "General Systemic Symptoms",
         "Behavioural Abnormalities",
         "Severe mental disturbance",
         null,
         null
        ],
        [
         "20",
         "64",
         "General Systemic Symptoms",
         "Body Temperature Disturbances",
         "PYREXIA",
         null,
         null
        ],
        [
         "21",
         "64",
         "Head & Face",
         "EARS",
         "Loss of hearing",
         "Partial",
         null
        ],
        [
         "22",
         "64",
         "Musculoskeletal System",
         "Bones",
         "PAIN",
         null,
         null
        ],
        [
         "23",
         "64",
         "Upper Body",
         "CARDIAC REGION",
         "PAIN",
         null,
         null
        ],
        [
         "24",
         "64",
         "General Systemic Symptoms",
         "JOINTS",
         "PAIN",
         null,
         null
        ],
        [
         "25",
         "64",
         "LOWER BODY",
         "LEGS",
         "PAIN",
         null,
         null
        ],
        [
         "26",
         "64",
         "UPPER BODY",
         "PECTORAL GIRDLE",
         "PAIN",
         null,
         null
        ],
        [
         "27",
         "64",
         "Upper Body",
         "RIBS",
         "PAIN",
         null,
         null
        ],
        [
         "28",
         "64",
         "LOWER BODY",
         "THIGHS",
         "PAIN",
         null,
         null
        ],
        [
         "29",
         "64",
         "Back & Spine",
         "WAIST",
         "PAIN",
         null,
         null
        ],
        [
         "30",
         "64",
         "Body Waste & Excretions",
         "MICTURITION",
         "Obstruction of Urine",
         null,
         null
        ],
        [
         "31",
         "64",
         "General Systemic Symptoms",
         "Whole-Body Symptoms",
         "LOSS OF IMMUNITY",
         null,
         null
        ],
        [
         "32",
         "64",
         "General Systemic Symptoms",
         "Whole-Body Symptoms",
         "Loss of Fat",
         null,
         null
        ],
        [
         "33",
         "64",
         "Head & Face",
         "FACE",
         "Loss of Facial Complexion",
         null,
         null
        ],
        [
         "34",
         "64",
         "General Systemic Symptoms",
         "Appetite & Thirst Disorders",
         "LOSS OF APPETITE",
         null,
         null
        ],
        [
         "35",
         "64",
         "General Systemic Symptoms",
         "Whole-Body Symptoms",
         "EMACIATION",
         null,
         null
        ],
        [
         "36",
         "64",
         "General Systemic Symptoms",
         "Altered Level of Consciousness",
         "DELIRIUM",
         null,
         null
        ],
        [
         "37",
         "64",
         "General Systemic Symptoms",
         "Cough-related Symptoms",
         "COUGH",
         null,
         null
        ],
        [
         "38",
         "64",
         "Body waste & Excretions",
         "DEFECATION",
         "CONSTIPATION",
         null,
         null
        ],
        [
         "39",
         "64",
         "Body Waste & Excretions",
         "SEMEN DISCHARGE",
         "ABNORMAL",
         "Reduction or depletion of seminal fluid",
         null
        ],
        [
         "40",
         "127",
         "General Systemic Symptoms",
         "Miscellaneous",
         "RESTLESSNESS",
         null,
         null
        ],
        [
         "41",
         "127",
         "General Systemic Symptoms",
         "Body Temperature Disturbances",
         "PYREXIA",
         null,
         null
        ],
        [
         "42",
         "127",
         "General Systemic Symptoms",
         "Whole-Body Symptoms",
         "PAIN",
         null,
         null
        ],
        [
         "43",
         "127",
         "General Systemic Symptoms",
         "Cognitive and Emotional Dysfunctions",
         "MENTAL INSTABILITY",
         null,
         null
        ],
        [
         "44",
         "127",
         "General Systemic Symptoms",
         "Whole-Body Symptoms",
         "General body discomfort",
         null,
         null
        ],
        [
         "45",
         "127",
         "General Systemic Symptoms",
         "Body Temperature Disturbances",
         "Elevated body temperature",
         null,
         null
        ],
        [
         "46",
         "160",
         "General Systemic Symptoms",
         "Miscellaneous",
         "VERTIGO",
         null,
         null
        ],
        [
         "47",
         "160",
         "General Systemic Symptoms",
         "Body Temperature Disturbances",
         "PYREXIA",
         null,
         "VERY HIGH"
        ],
        [
         "48",
         "160",
         "General Systemic Symptoms",
         "Miscellaneous",
         "NAUSEA",
         null,
         null
        ],
        [
         "49",
         "160",
         "General Systemic Symptoms",
         "Appetite & Thirst Disorders",
         "EXCESSIVE THIRST",
         null,
         null
        ]
       ],
       "shape": {
        "columns": 6,
        "rows": 671
       }
      },
      "text/html": [
       "<div>\n",
       "<style scoped>\n",
       "    .dataframe tbody tr th:only-of-type {\n",
       "        vertical-align: middle;\n",
       "    }\n",
       "\n",
       "    .dataframe tbody tr th {\n",
       "        vertical-align: top;\n",
       "    }\n",
       "\n",
       "    .dataframe thead th {\n",
       "        text-align: right;\n",
       "    }\n",
       "</style>\n",
       "<table border=\"1\" class=\"dataframe\">\n",
       "  <thead>\n",
       "    <tr style=\"text-align: right;\">\n",
       "      <th></th>\n",
       "      <th>Disease No.</th>\n",
       "      <th>Category</th>\n",
       "      <th>Sub Category</th>\n",
       "      <th>Symptom P1</th>\n",
       "      <th>Symptom P2</th>\n",
       "      <th>Remarks</th>\n",
       "    </tr>\n",
       "  </thead>\n",
       "  <tbody>\n",
       "    <tr>\n",
       "      <th>0</th>\n",
       "      <td>40</td>\n",
       "      <td>Skin &amp; External Features</td>\n",
       "      <td>Cutaneous symptoms</td>\n",
       "      <td>Reduced tactile sense</td>\n",
       "      <td>NaN</td>\n",
       "      <td>NaN</td>\n",
       "    </tr>\n",
       "    <tr>\n",
       "      <th>1</th>\n",
       "      <td>40</td>\n",
       "      <td>General Systemic Symptoms</td>\n",
       "      <td>Whole-Body Symptoms</td>\n",
       "      <td>MALAISE</td>\n",
       "      <td>NaN</td>\n",
       "      <td>NaN</td>\n",
       "    </tr>\n",
       "    <tr>\n",
       "      <th>2</th>\n",
       "      <td>40</td>\n",
       "      <td>Head &amp; Face</td>\n",
       "      <td>EYES</td>\n",
       "      <td>Loss of Vision</td>\n",
       "      <td>NaN</td>\n",
       "      <td>NaN</td>\n",
       "    </tr>\n",
       "    <tr>\n",
       "      <th>3</th>\n",
       "      <td>40</td>\n",
       "      <td>Head &amp; Face</td>\n",
       "      <td>TOUNGE</td>\n",
       "      <td>Loss of taste</td>\n",
       "      <td>NaN</td>\n",
       "      <td>NaN</td>\n",
       "    </tr>\n",
       "    <tr>\n",
       "      <th>4</th>\n",
       "      <td>40</td>\n",
       "      <td>Head &amp; Face</td>\n",
       "      <td>NOSE</td>\n",
       "      <td>Loss of Smell</td>\n",
       "      <td>NaN</td>\n",
       "      <td>NaN</td>\n",
       "    </tr>\n",
       "    <tr>\n",
       "      <th>...</th>\n",
       "      <td>...</td>\n",
       "      <td>...</td>\n",
       "      <td>...</td>\n",
       "      <td>...</td>\n",
       "      <td>...</td>\n",
       "      <td>...</td>\n",
       "    </tr>\n",
       "    <tr>\n",
       "      <th>666</th>\n",
       "      <td>80</td>\n",
       "      <td>Body Waste &amp; Excretions</td>\n",
       "      <td>Perspiration</td>\n",
       "      <td>ABNORMAL</td>\n",
       "      <td>Excessive Perspiration</td>\n",
       "      <td>NaN</td>\n",
       "    </tr>\n",
       "    <tr>\n",
       "      <th>667</th>\n",
       "      <td>80</td>\n",
       "      <td>Body Waste &amp; Excretions</td>\n",
       "      <td>STOOL</td>\n",
       "      <td>ABNORMAL</td>\n",
       "      <td>Blood in stool</td>\n",
       "      <td>PURE</td>\n",
       "    </tr>\n",
       "    <tr>\n",
       "      <th>668</th>\n",
       "      <td>80</td>\n",
       "      <td>Body Waste &amp; Excretions</td>\n",
       "      <td>Urine</td>\n",
       "      <td>ABNORMAL</td>\n",
       "      <td>Blood in Urine</td>\n",
       "      <td>PURE</td>\n",
       "    </tr>\n",
       "    <tr>\n",
       "      <th>669</th>\n",
       "      <td>80</td>\n",
       "      <td>Body Waste &amp; Excretions</td>\n",
       "      <td>VAGINAL DISCHARGE</td>\n",
       "      <td>ABNORMAL</td>\n",
       "      <td>BLOOD DISCHARGE</td>\n",
       "      <td>NaN</td>\n",
       "    </tr>\n",
       "    <tr>\n",
       "      <th>670</th>\n",
       "      <td>80</td>\n",
       "      <td>Body Waste &amp; Excretions</td>\n",
       "      <td>VAGINAL DISCHARGE</td>\n",
       "      <td>ABNORMAL</td>\n",
       "      <td>BLOOD DISCHARGE</td>\n",
       "      <td>PURE</td>\n",
       "    </tr>\n",
       "  </tbody>\n",
       "</table>\n",
       "<p>671 rows × 6 columns</p>\n",
       "</div>"
      ],
      "text/plain": [
       "     Disease No.                   Category         Sub Category  \\\n",
       "0             40   Skin & External Features   Cutaneous symptoms   \n",
       "1             40  General Systemic Symptoms  Whole-Body Symptoms   \n",
       "2             40                Head & Face                 EYES   \n",
       "3             40                Head & Face               TOUNGE   \n",
       "4             40                Head & Face                 NOSE   \n",
       "..           ...                        ...                  ...   \n",
       "666           80    Body Waste & Excretions         Perspiration   \n",
       "667           80    Body Waste & Excretions                STOOL   \n",
       "668           80    Body Waste & Excretions                Urine   \n",
       "669           80    Body Waste & Excretions    VAGINAL DISCHARGE   \n",
       "670           80    Body Waste & Excretions    VAGINAL DISCHARGE   \n",
       "\n",
       "                Symptom P1              Symptom P2 Remarks   \n",
       "0    Reduced tactile sense                     NaN      NaN  \n",
       "1                  MALAISE                     NaN      NaN  \n",
       "2           Loss of Vision                     NaN      NaN  \n",
       "3            Loss of taste                     NaN      NaN  \n",
       "4            Loss of Smell                     NaN      NaN  \n",
       "..                     ...                     ...      ...  \n",
       "666               ABNORMAL  Excessive Perspiration      NaN  \n",
       "667               ABNORMAL          Blood in stool     PURE  \n",
       "668               ABNORMAL          Blood in Urine     PURE  \n",
       "669               ABNORMAL         BLOOD DISCHARGE      NaN  \n",
       "670               ABNORMAL         BLOOD DISCHARGE     PURE  \n",
       "\n",
       "[671 rows x 6 columns]"
      ]
     },
     "execution_count": 5,
     "metadata": {},
     "output_type": "execute_result"
    }
   ],
   "source": [
    "df"
   ]
  },
  {
   "cell_type": "code",
   "execution_count": 6,
   "id": "ebe58499",
   "metadata": {},
   "outputs": [
    {
     "name": "stdout",
     "output_type": "stream",
     "text": [
      "[('Symptom P1', -0.0), ('Symptom P2', -0.0)]\n"
     ]
    }
   ],
   "source": [
    "import pandas as pd\n",
    "import numpy as np\n",
    "\n",
    "df = pd.read_csv('sample.csv')\n",
    "\n",
    "# Assume user selects Category and Sub Category already\n",
    "filtered_df = df[(df['Category'] == 'A') & (df['Sub Category'] == 'B1')]\n",
    "\n",
    "# Get remaining symptoms columns\n",
    "symptom_cols = ['Symptom P1', 'Symptom P2']\n",
    "\n",
    "# Calculate symptom information gain\n",
    "scores = {}\n",
    "for col in symptom_cols:\n",
    "    counts = filtered_df[col].value_counts()\n",
    "    probs = counts / counts.sum()\n",
    "    entropy = -np.sum(probs * np.log2(probs))\n",
    "    scores[col] = entropy\n",
    "\n",
    "# Sort symptoms by information gain (lower entropy = better question to ask)\n",
    "sorted_symptoms = sorted(scores.items(), key=lambda x: x[1])\n",
    "print(sorted_symptoms)\n"
   ]
  },
  {
   "cell_type": "code",
   "execution_count": null,
   "id": "7ee5c19b",
   "metadata": {},
   "outputs": [],
   "source": []
  }
 ],
 "metadata": {
  "kernelspec": {
   "display_name": "test_env",
   "language": "python",
   "name": "python3"
  },
  "language_info": {
   "codemirror_mode": {
    "name": "ipython",
    "version": 3
   },
   "file_extension": ".py",
   "mimetype": "text/x-python",
   "name": "python",
   "nbconvert_exporter": "python",
   "pygments_lexer": "ipython3",
   "version": "3.12.2"
  }
 },
 "nbformat": 4,
 "nbformat_minor": 5
}
